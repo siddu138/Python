{
  "nbformat": 4,
  "nbformat_minor": 0,
  "metadata": {
    "colab": {
      "name": "26-12-19.ipynb",
      "provenance": [],
      "collapsed_sections": [],
      "include_colab_link": true
    },
    "kernelspec": {
      "name": "python3",
      "display_name": "Python 3"
    }
  },
  "cells": [
    {
      "cell_type": "markdown",
      "metadata": {
        "id": "view-in-github",
        "colab_type": "text"
      },
      "source": [
        "<a href=\"https://colab.research.google.com/github/siddu138/Python/blob/master/26_12_19.ipynb\" target=\"_parent\"><img src=\"https://colab.research.google.com/assets/colab-badge.svg\" alt=\"Open In Colab\"/></a>"
      ]
    },
    {
      "cell_type": "code",
      "metadata": {
        "id": "kno12eb3XF7s",
        "colab_type": "code",
        "outputId": "651abc91-6fa3-4156-b490-fac6d988ab9b",
        "colab": {
          "base_uri": "https://localhost:8080/",
          "height": 85
        }
      },
      "source": [
        "#find large number from given 3 numbers\n",
        "a=int(input(\"enter the number\"))\n",
        "b=int(input(\"enter the number\"))\n",
        "c=int(input(\"enter the number\"))\n",
        "if a>b and a>c:\n",
        "  print(a,\"is largest number\")\n",
        "elif b>c and b>a:\n",
        "  print(b,\"is largest number\")\n",
        "else:\n",
        "  print(c,\"is largest number\")\n",
        "  "
      ],
      "execution_count": 0,
      "outputs": [
        {
          "output_type": "stream",
          "text": [
            "enter the number12\n",
            "enter the number10\n",
            "enter the number45\n",
            "45 is largest number\n"
          ],
          "name": "stdout"
        }
      ]
    },
    {
      "cell_type": "markdown",
      "metadata": {
        "id": "yUmWvUgAZvFN",
        "colab_type": "text"
      },
      "source": [
        "#While Statement\n",
        "##Syntax:\n",
        "###while boolean_condition:<br>\n",
        "           statements<br>\n",
        "           Increment/Decrement<br>"
      ]
    },
    {
      "cell_type": "code",
      "metadata": {
        "id": "LipyLFM3bwfL",
        "colab_type": "code",
        "outputId": "81cef9f9-2e60-4481-98a6-d94f0a774b20",
        "colab": {
          "base_uri": "https://localhost:8080/",
          "height": 102
        }
      },
      "source": [
        "x=0\n",
        "while x<5:\n",
        "  print(\"gitam\")\n",
        "  x=x+1"
      ],
      "execution_count": 0,
      "outputs": [
        {
          "output_type": "stream",
          "text": [
            "gitam\n",
            "gitam\n",
            "gitam\n",
            "gitam\n",
            "gitam\n"
          ],
          "name": "stdout"
        }
      ]
    },
    {
      "cell_type": "code",
      "metadata": {
        "id": "knU5YHhicDX_",
        "colab_type": "code",
        "colab": {}
      },
      "source": [
        "#print n natural numbers using while loop\n",
        "#input:10\n",
        "#output:1 2 3 4 5 6 7 8 9 10\n",
        "n=int(input(\"enter range\"))\n",
        "x=0\n",
        "while x<n:\n",
        "      x=x+1\n",
        "      print(x,end=\" \")"
      ],
      "execution_count": 0,
      "outputs": []
    },
    {
      "cell_type": "code",
      "metadata": {
        "id": "bU1T22LJrEdL",
        "colab_type": "code",
        "colab": {}
      },
      "source": [
        "#add of even numbers\n",
        "n=int(input(\"enter numbers\"))\n",
        "i=0\n",
        "sum=0\n",
        "while i<n:\n",
        "  if i %2==0:\n",
        "    sum=sum+i\n",
        "  i=i+1\n",
        "print(sum)"
      ],
      "execution_count": 0,
      "outputs": []
    },
    {
      "cell_type": "code",
      "metadata": {
        "id": "iN8i2rDXlU7h",
        "colab_type": "code",
        "colab": {}
      },
      "source": [
        "#input=123\n",
        "#output=321\n",
        "n=int(input(\"enter a number\"))\n",
        "while n!=0:\n",
        "      r=n%10\n",
        "      print(r)\n",
        "      n=n//10"
      ],
      "execution_count": 0,
      "outputs": []
    },
    {
      "cell_type": "markdown",
      "metadata": {
        "id": "JzKARrSCmBz5",
        "colab_type": "text"
      },
      "source": [
        "#Functional Programming\n",
        "- Simple\n",
        "- Easy read\n",
        "- Lengthy program divides into sub proframs\n",
        "\n",
        "##Syntax\n",
        "def nameofthefunction(<parameters>):\n",
        "    statements\n",
        "    return"
      ]
    },
    {
      "cell_type": "code",
      "metadata": {
        "id": "_c8LZYczmgup",
        "colab_type": "code",
        "colab": {}
      },
      "source": [
        "#input:1234\n",
        "#output:6(2+4)\n",
        "def addevendigit(n):\n",
        "  sum=0\n",
        "  while n!=0:\n",
        "    r=n%10\n",
        "    if r%2==0:\n",
        "      sum=sum+r\n",
        "    n=n//10\n",
        "  return sum\n",
        "addevendigit(1234)"
      ],
      "execution_count": 0,
      "outputs": []
    },
    {
      "cell_type": "code",
      "metadata": {
        "id": "Ddm3G1nwnXfh",
        "colab_type": "code",
        "colab": {}
      },
      "source": [
        "#read input\n",
        "#input:19528\n",
        "#output:9\n",
        "def largest(n):\n",
        "  l=0\n",
        "  while n!=0:\n",
        "    r=n%10\n",
        "    if r>l:\n",
        "      l=r\n",
        "    n=n//10\n",
        "  return l\n",
        "largest(19528)\n",
        "\n"
      ],
      "execution_count": 0,
      "outputs": []
    },
    {
      "cell_type": "code",
      "metadata": {
        "id": "3HLi2JeRtGSc",
        "colab_type": "code",
        "colab": {}
      },
      "source": [
        "#input:123\n",
        "#output:321\n",
        "def revnum(n):\n",
        "  while n!=0:\n",
        "    r=n%10\n",
        "    print(r,end=\" \")\n",
        "    n=n//10\n",
        "revnum(123)"
      ],
      "execution_count": 0,
      "outputs": []
    },
    {
      "cell_type": "code",
      "metadata": {
        "id": "dOUrIb7UtgMW",
        "colab_type": "code",
        "colab": {}
      },
      "source": [
        "#input:121---121---yes\n",
        "#      123---321---no\n",
        "def palin(n):\n",
        "  rev=0\n",
        "  temp=n\n",
        "  while n!=0:\n",
        "    r=n%10\n",
        "    rev=rev*10+r\n",
        "    n=n//10\n",
        "  if temp==rev:\n",
        "    return \"yes\"\n",
        "  else:\n",
        "    return \"no\"\n",
        "print(palin(123))\n",
        "print(palin(121))\n"
      ],
      "execution_count": 0,
      "outputs": []
    },
    {
      "cell_type": "code",
      "metadata": {
        "id": "QuOwTGTfzN_2",
        "colab_type": "code",
        "colab": {}
      },
      "source": [
        "#function to print n natural numbers\n",
        "def natural(n):\n",
        "  for i in range(1,n+1):\n",
        "    print(i,end=\" \")\n",
        "natural (10)"
      ],
      "execution_count": 0,
      "outputs": []
    },
    {
      "cell_type": "code",
      "metadata": {
        "id": "xdAHdyqX0rvd",
        "colab_type": "code",
        "colab": {}
      },
      "source": [
        "#natural nos(11,15)\n",
        "def natural(n):\n",
        "  for i in range(11,n+1):\n",
        "    print(i,end=\" \")\n",
        "natural(15)"
      ],
      "execution_count": 0,
      "outputs": []
    },
    {
      "cell_type": "code",
      "metadata": {
        "id": "eLnrUesC1K8_",
        "colab_type": "code",
        "colab": {}
      },
      "source": [
        "#natural nos(11,25)\n",
        "def natural(l,b):\n",
        "  for i in range(l,b+1):\n",
        "    print(i,end=\" \")\n",
        "natural(11,15)"
      ],
      "execution_count": 0,
      "outputs": []
    },
    {
      "cell_type": "code",
      "metadata": {
        "id": "4IcMw6GI1-tm",
        "colab_type": "code",
        "colab": {}
      },
      "source": [
        "def natural(l,b):\n",
        "  for i in range(l,b+1,3):\n",
        "    print(i,end=\" \")\n",
        "natural(1,10)"
      ],
      "execution_count": 0,
      "outputs": []
    },
    {
      "cell_type": "code",
      "metadata": {
        "id": "5H8ZLm6y3D5H",
        "colab_type": "code",
        "colab": {}
      },
      "source": [
        "def natural(l,b):\n",
        "  for i in range(l,b+1,4):\n",
        "    print(i,end=\" \")\n",
        "natural(1,10)"
      ],
      "execution_count": 0,
      "outputs": []
    },
    {
      "cell_type": "code",
      "metadata": {
        "id": "T7hXsjpe3MzW",
        "colab_type": "code",
        "colab": {}
      },
      "source": [
        "def reverserange(b,l):\n",
        "  for i in range(l,b-1,-1):\n",
        "    print(i,end=\" \")\n",
        "reveserange(1,10)"
      ],
      "execution_count": 0,
      "outputs": []
    },
    {
      "cell_type": "markdown",
      "metadata": {
        "id": "YlxyODIG5sLs",
        "colab_type": "text"
      },
      "source": [
        "#Data Structures\n",
        "- list\n",
        "- tuple\n",
        "- dictionary\n",
        "\n",
        "#List:\n",
        "- its one common data structure in python, the items are separated by comma and enclosed by [].\n",
        "- CRUD operations\n",
        "* C-create\n",
        "* R-read\n",
        "* U-update\n",
        "* D-delete\n",
        "- list values can be changed or mutable\n",
        "##Example:\n",
        "- list=[1,2,3,4]"
      ]
    },
    {
      "cell_type": "code",
      "metadata": {
        "id": "99IyhfbQ7ha2",
        "colab_type": "code",
        "colab": {}
      },
      "source": [
        "li=[1,2,3,4,5]\n",
        "print(li)\n",
        "print(li[0])\n",
        "print(li[1])"
      ],
      "execution_count": 0,
      "outputs": []
    },
    {
      "cell_type": "code",
      "metadata": {
        "id": "VvzYzOeR-Jhe",
        "colab_type": "code",
        "colab": {}
      },
      "source": [
        ""
      ],
      "execution_count": 0,
      "outputs": []
    }
  ]
}