{
  "nbformat": 4,
  "nbformat_minor": 0,
  "metadata": {
    "colab": {
      "name": "26-12-19.ipynb",
      "provenance": [],
      "collapsed_sections": [],
      "include_colab_link": true
    },
    "kernelspec": {
      "name": "python3",
      "display_name": "Python 3"
    }
  },
  "cells": [
    {
      "cell_type": "markdown",
      "metadata": {
        "id": "view-in-github",
        "colab_type": "text"
      },
      "source": [
        "<a href=\"https://colab.research.google.com/github/siddu138/Python/blob/master/26_12_19.ipynb\" target=\"_parent\"><img src=\"https://colab.research.google.com/assets/colab-badge.svg\" alt=\"Open In Colab\"/></a>"
      ]
    },
    {
      "cell_type": "code",
      "metadata": {
        "id": "kno12eb3XF7s",
        "colab_type": "code",
        "outputId": "651abc91-6fa3-4156-b490-fac6d988ab9b",
        "colab": {
          "base_uri": "https://localhost:8080/",
          "height": 85
        }
      },
      "source": [
        "#find large number from given 3 numbers\n",
        "a=int(input(\"enter the number\"))\n",
        "b=int(input(\"enter the number\"))\n",
        "c=int(input(\"enter the number\"))\n",
        "if a>b and a>c:\n",
        "  print(a,\"is largest number\")\n",
        "elif b>c and b>a:\n",
        "  print(b,\"is largest number\")\n",
        "else:\n",
        "  print(c,\"is largest number\")\n",
        "  "
      ],
      "execution_count": 0,
      "outputs": [
        {
          "output_type": "stream",
          "text": [
            "enter the number12\n",
            "enter the number10\n",
            "enter the number45\n",
            "45 is largest number\n"
          ],
          "name": "stdout"
        }
      ]
    },
    {
      "cell_type": "markdown",
      "metadata": {
        "id": "yUmWvUgAZvFN",
        "colab_type": "text"
      },
      "source": [
        "#While Statement\n",
        "##Syntax:\n",
        "###while boolean_condition:<br>\n",
        "           statements<br>\n",
        "           Increment/Decrement<br>"
      ]
    },
    {
      "cell_type": "code",
      "metadata": {
        "id": "LipyLFM3bwfL",
        "colab_type": "code",
        "outputId": "81cef9f9-2e60-4481-98a6-d94f0a774b20",
        "colab": {
          "base_uri": "https://localhost:8080/",
          "height": 102
        }
      },
      "source": [
        "x=0\n",
        "while x<5:\n",
        "  print(\"gitam\")\n",
        "  x=x+1"
      ],
      "execution_count": 0,
      "outputs": [
        {
          "output_type": "stream",
          "text": [
            "gitam\n",
            "gitam\n",
            "gitam\n",
            "gitam\n",
            "gitam\n"
          ],
          "name": "stdout"
        }
      ]
    },
    {
      "cell_type": "code",
      "metadata": {
        "id": "knU5YHhicDX_",
        "colab_type": "code",
        "colab": {
          "base_uri": "https://localhost:8080/",
          "height": 51
        },
        "outputId": "d583158c-41f1-420c-c80e-2691f08e5058"
      },
      "source": [
        "#print n natural numbers using while loop\n",
        "#input:10\n",
        "#output:1 2 3 4 5 6 7 8 9 10\n",
        "n=int(input(\"enter range\"))\n",
        "x=0\n",
        "while x<n:\n",
        "      x=x+1\n",
        "      print(x,end=\" \")"
      ],
      "execution_count": 1,
      "outputs": [
        {
          "output_type": "stream",
          "text": [
            "enter range10\n",
            "1 2 3 4 5 6 7 8 9 10 "
          ],
          "name": "stdout"
        }
      ]
    },
    {
      "cell_type": "code",
      "metadata": {
        "id": "bU1T22LJrEdL",
        "colab_type": "code",
        "colab": {
          "base_uri": "https://localhost:8080/",
          "height": 51
        },
        "outputId": "7b1e14b3-0214-4ab7-f2ba-2fd0aa5fd740"
      },
      "source": [
        "#add of even numbers\n",
        "n=int(input(\"enter numbers\"))\n",
        "i=0\n",
        "sum=0\n",
        "while i<n:\n",
        "  if i %2==0:\n",
        "    sum=sum+i\n",
        "  i=i+1\n",
        "print(sum)"
      ],
      "execution_count": 2,
      "outputs": [
        {
          "output_type": "stream",
          "text": [
            "enter numbers10\n",
            "20\n"
          ],
          "name": "stdout"
        }
      ]
    },
    {
      "cell_type": "code",
      "metadata": {
        "id": "iN8i2rDXlU7h",
        "colab_type": "code",
        "colab": {
          "base_uri": "https://localhost:8080/",
          "height": 85
        },
        "outputId": "e708dbf0-0f2d-46a3-f1bd-4e207ed152d8"
      },
      "source": [
        "#input=123\n",
        "#output=321\n",
        "n=int(input(\"enter a number\"))\n",
        "while n!=0:\n",
        "      r=n%10\n",
        "      print(r)\n",
        "      n=n//10"
      ],
      "execution_count": 3,
      "outputs": [
        {
          "output_type": "stream",
          "text": [
            "enter a number123\n",
            "3\n",
            "2\n",
            "1\n"
          ],
          "name": "stdout"
        }
      ]
    },
    {
      "cell_type": "markdown",
      "metadata": {
        "id": "JzKARrSCmBz5",
        "colab_type": "text"
      },
      "source": [
        "#Functional Programming\n",
        "- Simple\n",
        "- Easy read\n",
        "- Lengthy program divides into sub proframs\n",
        "\n",
        "##Syntax\n",
        "def nameofthefunction(<parameters>):\n",
        "    statements\n",
        "    return"
      ]
    },
    {
      "cell_type": "code",
      "metadata": {
        "id": "_c8LZYczmgup",
        "colab_type": "code",
        "colab": {
          "base_uri": "https://localhost:8080/",
          "height": 34
        },
        "outputId": "956fa36c-3adc-4f35-fd9a-8f0715ec74e5"
      },
      "source": [
        "#input:1234\n",
        "#output:6(2+4)\n",
        "def addevendigit(n):\n",
        "  sum=0\n",
        "  while n!=0:\n",
        "    r=n%10\n",
        "    if r%2==0:\n",
        "      sum=sum+r\n",
        "    n=n//10\n",
        "  return sum\n",
        "addevendigit(1234)"
      ],
      "execution_count": 4,
      "outputs": [
        {
          "output_type": "execute_result",
          "data": {
            "text/plain": [
              "6"
            ]
          },
          "metadata": {
            "tags": []
          },
          "execution_count": 4
        }
      ]
    },
    {
      "cell_type": "code",
      "metadata": {
        "id": "Ddm3G1nwnXfh",
        "colab_type": "code",
        "colab": {
          "base_uri": "https://localhost:8080/",
          "height": 34
        },
        "outputId": "1025b1ff-cd74-4680-dc0b-e950ac9f77ab"
      },
      "source": [
        "#read input\n",
        "#input:19528\n",
        "#output:9\n",
        "def largest(n):\n",
        "  l=0\n",
        "  while n!=0:\n",
        "    r=n%10\n",
        "    if r>l:\n",
        "      l=r\n",
        "    n=n//10\n",
        "  return l\n",
        "largest(19528)\n",
        "\n"
      ],
      "execution_count": 5,
      "outputs": [
        {
          "output_type": "execute_result",
          "data": {
            "text/plain": [
              "9"
            ]
          },
          "metadata": {
            "tags": []
          },
          "execution_count": 5
        }
      ]
    },
    {
      "cell_type": "code",
      "metadata": {
        "id": "3HLi2JeRtGSc",
        "colab_type": "code",
        "colab": {
          "base_uri": "https://localhost:8080/",
          "height": 34
        },
        "outputId": "9d2cb823-7e1d-4e00-a226-c36b8d074970"
      },
      "source": [
        "#input:123\n",
        "#output:321\n",
        "def revnum(n):\n",
        "  while n!=0:\n",
        "    r=n%10\n",
        "    print(r,end=\" \")\n",
        "    n=n//10\n",
        "revnum(123)"
      ],
      "execution_count": 6,
      "outputs": [
        {
          "output_type": "stream",
          "text": [
            "3 2 1 "
          ],
          "name": "stdout"
        }
      ]
    },
    {
      "cell_type": "code",
      "metadata": {
        "id": "dOUrIb7UtgMW",
        "colab_type": "code",
        "colab": {
          "base_uri": "https://localhost:8080/",
          "height": 51
        },
        "outputId": "2537c658-8333-46e3-abed-13d25894d1a1"
      },
      "source": [
        "#input:121---121---yes\n",
        "#      123---321---no\n",
        "def palin(n):\n",
        "  rev=0\n",
        "  temp=n\n",
        "  while n!=0:\n",
        "    r=n%10\n",
        "    rev=rev*10+r\n",
        "    n=n//10\n",
        "  if temp==rev:\n",
        "    return \"yes\"\n",
        "  else:\n",
        "    return \"no\"\n",
        "print(palin(123))\n",
        "print(palin(121))\n"
      ],
      "execution_count": 7,
      "outputs": [
        {
          "output_type": "stream",
          "text": [
            "no\n",
            "yes\n"
          ],
          "name": "stdout"
        }
      ]
    },
    {
      "cell_type": "code",
      "metadata": {
        "id": "QuOwTGTfzN_2",
        "colab_type": "code",
        "colab": {
          "base_uri": "https://localhost:8080/",
          "height": 34
        },
        "outputId": "0d8c63d8-6fb6-42a5-e724-0e8c6769512a"
      },
      "source": [
        "#function to print n natural numbers\n",
        "def natural(n):\n",
        "  for i in range(1,n+1):\n",
        "    print(i,end=\" \")\n",
        "natural (10)"
      ],
      "execution_count": 8,
      "outputs": [
        {
          "output_type": "stream",
          "text": [
            "1 2 3 4 5 6 7 8 9 10 "
          ],
          "name": "stdout"
        }
      ]
    },
    {
      "cell_type": "code",
      "metadata": {
        "id": "xdAHdyqX0rvd",
        "colab_type": "code",
        "colab": {
          "base_uri": "https://localhost:8080/",
          "height": 34
        },
        "outputId": "660c9a5a-4293-4c59-907c-6b9c68ea4d87"
      },
      "source": [
        "#natural nos(11,15)\n",
        "def natural(n):\n",
        "  for i in range(11,n+1):\n",
        "    print(i,end=\" \")\n",
        "natural(15)"
      ],
      "execution_count": 9,
      "outputs": [
        {
          "output_type": "stream",
          "text": [
            "11 12 13 14 15 "
          ],
          "name": "stdout"
        }
      ]
    },
    {
      "cell_type": "code",
      "metadata": {
        "id": "eLnrUesC1K8_",
        "colab_type": "code",
        "colab": {
          "base_uri": "https://localhost:8080/",
          "height": 34
        },
        "outputId": "c4b75fc6-df59-427a-8279-85f77406add5"
      },
      "source": [
        "#natural nos(11,25)\n",
        "def natural(l,b):\n",
        "  for i in range(l,b+1):\n",
        "    print(i,end=\" \")\n",
        "natural(11,15)"
      ],
      "execution_count": 10,
      "outputs": [
        {
          "output_type": "stream",
          "text": [
            "11 12 13 14 15 "
          ],
          "name": "stdout"
        }
      ]
    },
    {
      "cell_type": "code",
      "metadata": {
        "id": "4IcMw6GI1-tm",
        "colab_type": "code",
        "colab": {
          "base_uri": "https://localhost:8080/",
          "height": 34
        },
        "outputId": "d97971ff-57da-473f-d5bb-a44259233867"
      },
      "source": [
        "def natural(l,b):\n",
        "  for i in range(l,b+1,3):\n",
        "    print(i,end=\" \")\n",
        "natural(1,10)"
      ],
      "execution_count": 11,
      "outputs": [
        {
          "output_type": "stream",
          "text": [
            "1 4 7 10 "
          ],
          "name": "stdout"
        }
      ]
    },
    {
      "cell_type": "code",
      "metadata": {
        "id": "5H8ZLm6y3D5H",
        "colab_type": "code",
        "colab": {
          "base_uri": "https://localhost:8080/",
          "height": 34
        },
        "outputId": "ec60999d-9b46-4cdc-8cd0-d687d1b51dc5"
      },
      "source": [
        "def natural(l,b):\n",
        "  for i in range(l,b+1,4):\n",
        "    print(i,end=\" \")\n",
        "natural(1,10)"
      ],
      "execution_count": 12,
      "outputs": [
        {
          "output_type": "stream",
          "text": [
            "1 5 9 "
          ],
          "name": "stdout"
        }
      ]
    },
    {
      "cell_type": "code",
      "metadata": {
        "id": "T7hXsjpe3MzW",
        "colab_type": "code",
        "colab": {
          "base_uri": "https://localhost:8080/",
          "height": 34
        },
        "outputId": "ca45f1f7-5686-4adf-b162-5dbcdc015fc9"
      },
      "source": [
        "def reverserange(b,l):\n",
        "  for i in range(l,b-1,-1):\n",
        "    print(i,end=\" \")\n",
        "reverserange(1,10)"
      ],
      "execution_count": 14,
      "outputs": [
        {
          "output_type": "stream",
          "text": [
            "10 9 8 7 6 5 4 3 2 1 "
          ],
          "name": "stdout"
        }
      ]
    },
    {
      "cell_type": "markdown",
      "metadata": {
        "id": "YlxyODIG5sLs",
        "colab_type": "text"
      },
      "source": [
        "#Data Structures\n",
        "- list\n",
        "- tuple\n",
        "- dictionary\n",
        "\n",
        "#List:\n",
        "- its one common data structure in python, the items are separated by comma and enclosed by [].\n",
        "- CRUD operations\n",
        "* C-create\n",
        "* R-read\n",
        "* U-update\n",
        "* D-delete\n",
        "- list values can be changed or mutable\n",
        "##Example:\n",
        "- list=[1,2,3,4]"
      ]
    },
    {
      "cell_type": "code",
      "metadata": {
        "id": "99IyhfbQ7ha2",
        "colab_type": "code",
        "colab": {
          "base_uri": "https://localhost:8080/",
          "height": 68
        },
        "outputId": "d57bd043-1bcb-4877-fb72-5445f8fa3de3"
      },
      "source": [
        "li=[1,2,3,4,5]\n",
        "print(li)\n",
        "print(li[0])\n",
        "print(li[1])"
      ],
      "execution_count": 15,
      "outputs": [
        {
          "output_type": "stream",
          "text": [
            "[1, 2, 3, 4, 5]\n",
            "1\n",
            "2\n"
          ],
          "name": "stdout"
        }
      ]
    },
    {
      "cell_type": "code",
      "metadata": {
        "id": "VvzYzOeR-Jhe",
        "colab_type": "code",
        "colab": {}
      },
      "source": [
        ""
      ],
      "execution_count": 0,
      "outputs": []
    }
  ]
}