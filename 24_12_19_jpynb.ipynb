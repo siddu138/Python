{
  "nbformat": 4,
  "nbformat_minor": 0,
  "metadata": {
    "colab": {
      "name": "24-12-19.jpynb",
      "provenance": [],
      "include_colab_link": true
    },
    "kernelspec": {
      "name": "python3",
      "display_name": "Python 3"
    }
  },
  "cells": [
    {
      "cell_type": "markdown",
      "metadata": {
        "id": "view-in-github",
        "colab_type": "text"
      },
      "source": [
        "<a href=\"https://colab.research.google.com/github/siddu138/Python/blob/master/24_12_19_jpynb.ipynb\" target=\"_parent\"><img src=\"https://colab.research.google.com/assets/colab-badge.svg\" alt=\"Open In Colab\"/></a>"
      ]
    },
    {
      "cell_type": "markdown",
      "metadata": {
        "id": "uoKVidQgEsap",
        "colab_type": "text"
      },
      "source": [
        "#Markdown\n",
        "##Markdown\n",
        "###Markdown\n",
        "####Markdown\n",
        "**Python**\n",
        "\n",
        "*Python*\n",
        "##Insert image\n",
        "![text](https://image.shutterstock.com/image-photo/bright-spring-view-cameo-island-260nw-1048185397.jpg)\n",
        "\n",
        "#Insert site\n",
        "[site](https://gparent.gitam.edu/)\n",
        "\n",
        "#PYTHON\n",
        "- python is easy to learn\n",
        "- python is more popular and demand \n",
        "- python is used in datascience\n",
        "\n",
        "\n"
      ]
    },
    {
      "cell_type": "code",
      "metadata": {
        "id": "aEFQzEndMQ_I",
        "colab_type": "code",
        "outputId": "8ba9865a-c342-4d93-c660-71f1c76583fe",
        "colab": {
          "base_uri": "https://localhost:8080/",
          "height": 34
        }
      },
      "source": [
        "print(\"hello world\")\n",
        "\n",
        "\n"
      ],
      "execution_count": 0,
      "outputs": [
        {
          "output_type": "stream",
          "text": [
            "hello world\n"
          ],
          "name": "stdout"
        }
      ]
    },
    {
      "cell_type": "code",
      "metadata": {
        "id": "xXq997RvMsA5",
        "colab_type": "code",
        "outputId": "26807c66-81c9-4a90-a2a5-ccf63ff0abd2",
        "colab": {
          "base_uri": "https://localhost:8080/",
          "height": 34
        }
      },
      "source": [
        "x=12\n",
        "y=18\n",
        "print(x,y)"
      ],
      "execution_count": 0,
      "outputs": [
        {
          "output_type": "stream",
          "text": [
            "12 18\n"
          ],
          "name": "stdout"
        }
      ]
    },
    {
      "cell_type": "code",
      "metadata": {
        "id": "qr7DCSzoM0jx",
        "colab_type": "code",
        "outputId": "c73bb5af-9cb2-47e4-97bb-4804159bf64f",
        "colab": {
          "base_uri": "https://localhost:8080/",
          "height": 34
        }
      },
      "source": [
        "a=b=c=20\n",
        "print(a,b,c)"
      ],
      "execution_count": 0,
      "outputs": [
        {
          "output_type": "stream",
          "text": [
            "20 20 20\n"
          ],
          "name": "stdout"
        }
      ]
    },
    {
      "cell_type": "code",
      "metadata": {
        "id": "Ipp983u3NKKa",
        "colab_type": "code",
        "outputId": "21e53de1-7799-48a1-aaf1-76c0f3db4017",
        "colab": {
          "base_uri": "https://localhost:8080/",
          "height": 34
        }
      },
      "source": [
        "a1,b1,c1=100,200,300\n",
        "print(a1,b1,c1)"
      ],
      "execution_count": 0,
      "outputs": [
        {
          "output_type": "stream",
          "text": [
            "100 200 300\n"
          ],
          "name": "stdout"
        }
      ]
    },
    {
      "cell_type": "markdown",
      "metadata": {
        "id": "MmkvmCYpNznx",
        "colab_type": "text"
      },
      "source": [
        "\n",
        "#Data Types and Conversions\n",
        "- int\n",
        "- float\n",
        "- string\n",
        "- complex\n",
        "- boolean\n"
      ]
    },
    {
      "cell_type": "code",
      "metadata": {
        "id": "zMPck1F5OVci",
        "colab_type": "code",
        "outputId": "aa519cd1-0b1c-4bc8-c183-6b22d06174e1",
        "colab": {
          "base_uri": "https://localhost:8080/",
          "height": 34
        }
      },
      "source": [
        "x=10\n",
        "y=12.56\n",
        "z=3+5j\n",
        "print(type(x),type(y),type(z))"
      ],
      "execution_count": 0,
      "outputs": [
        {
          "output_type": "stream",
          "text": [
            "<class 'int'> <class 'float'> <class 'complex'>\n"
          ],
          "name": "stdout"
        }
      ]
    },
    {
      "cell_type": "code",
      "metadata": {
        "id": "8IcvLdz_OioP",
        "colab_type": "code",
        "outputId": "7eae2c71-c693-4256-e5c5-2d671fe2e3d8",
        "colab": {
          "base_uri": "https://localhost:8080/",
          "height": 34
        }
      },
      "source": [
        "x=4\n",
        "y=10\n",
        "x<y"
      ],
      "execution_count": 0,
      "outputs": [
        {
          "output_type": "execute_result",
          "data": {
            "text/plain": [
              "True"
            ]
          },
          "metadata": {
            "tags": []
          },
          "execution_count": 10
        }
      ]
    },
    {
      "cell_type": "code",
      "metadata": {
        "id": "4Wk4YCC0PTu3",
        "colab_type": "code",
        "outputId": "e3191097-f735-413b-c37d-39c78829b849",
        "colab": {
          "base_uri": "https://localhost:8080/",
          "height": 34
        }
      },
      "source": [
        "#stirng\n",
        "s1=\"abc\"\n",
        "s2=\"xyz\"\n",
        "print(type(s1),type(s2))"
      ],
      "execution_count": 0,
      "outputs": [
        {
          "output_type": "stream",
          "text": [
            "<class 'str'> <class 'str'>\n"
          ],
          "name": "stdout"
        }
      ]
    },
    {
      "cell_type": "code",
      "metadata": {
        "id": "-BqIUALTP2yP",
        "colab_type": "code",
        "outputId": "b415a46a-daa1-49a9-a049-323bf87a2d87",
        "colab": {
          "base_uri": "https://localhost:8080/",
          "height": 34
        }
      },
      "source": [
        "s=\"123\"\n",
        "type(s)\n"
      ],
      "execution_count": 0,
      "outputs": [
        {
          "output_type": "execute_result",
          "data": {
            "text/plain": [
              "str"
            ]
          },
          "metadata": {
            "tags": []
          },
          "execution_count": 12
        }
      ]
    },
    {
      "cell_type": "code",
      "metadata": {
        "id": "FigQ_l8EQLZg",
        "colab_type": "code",
        "outputId": "a7bd4ddd-a332-441f-83e0-33e2915b13ff",
        "colab": {
          "base_uri": "https://localhost:8080/",
          "height": 34
        }
      },
      "source": [
        "s=123\n",
        "type(s)"
      ],
      "execution_count": 0,
      "outputs": [
        {
          "output_type": "execute_result",
          "data": {
            "text/plain": [
              "int"
            ]
          },
          "metadata": {
            "tags": []
          },
          "execution_count": 13
        }
      ]
    },
    {
      "cell_type": "code",
      "metadata": {
        "id": "zHyn694XQZP2",
        "colab_type": "code",
        "outputId": "06f27e9a-f4ec-4b79-abee-e9c1959c6895",
        "colab": {
          "base_uri": "https://localhost:8080/",
          "height": 68
        }
      },
      "source": [
        "i=100\n",
        "print(type(i))\n",
        "s1=str(i)\n",
        "print(type(s1))\n",
        "f=float(i)\n",
        "print(type(f))"
      ],
      "execution_count": 0,
      "outputs": [
        {
          "output_type": "stream",
          "text": [
            "<class 'int'>\n",
            "<class 'str'>\n",
            "<class 'float'>\n"
          ],
          "name": "stdout"
        }
      ]
    },
    {
      "cell_type": "code",
      "metadata": {
        "id": "kwbbQT7PQ5GQ",
        "colab_type": "code",
        "outputId": "27ab8f66-aac5-4a3c-cfbc-1c60d4797c0b",
        "colab": {
          "base_uri": "https://localhost:8080/",
          "height": 34
        }
      },
      "source": [
        "c=complex(3,5)\n",
        "print(c)"
      ],
      "execution_count": 0,
      "outputs": [
        {
          "output_type": "stream",
          "text": [
            "(3+5j)\n"
          ],
          "name": "stdout"
        }
      ]
    },
    {
      "cell_type": "code",
      "metadata": {
        "id": "Ys3C0qv8Rp6P",
        "colab_type": "code",
        "colab": {}
      },
      "source": [
        ""
      ],
      "execution_count": 0,
      "outputs": []
    },
    {
      "cell_type": "markdown",
      "metadata": {
        "id": "AlKuGjyHR9na",
        "colab_type": "text"
      },
      "source": [
        "#Reading a value ---Input function\n"
      ]
    },
    {
      "cell_type": "code",
      "metadata": {
        "id": "auowEJcYSLcC",
        "colab_type": "code",
        "outputId": "1dd1e162-3261-4a12-998c-0894fa4b7353",
        "colab": {
          "base_uri": "https://localhost:8080/",
          "height": 68
        }
      },
      "source": [
        "s=input(\"enter name:\")\n",
        "print(s)\n",
        "print(type(s))"
      ],
      "execution_count": 0,
      "outputs": [
        {
          "output_type": "stream",
          "text": [
            "enter name:siddu\n",
            "siddu\n",
            "<class 'str'>\n"
          ],
          "name": "stdout"
        }
      ]
    },
    {
      "cell_type": "code",
      "metadata": {
        "id": "jQIMdGsQSSW3",
        "colab_type": "code",
        "outputId": "b042b515-3757-48b8-a3bd-11550e1dcf18",
        "colab": {
          "base_uri": "https://localhost:8080/",
          "height": 68
        }
      },
      "source": [
        "a=int (input(\"enter age:\"))\n",
        "print(a)\n",
        "print(type(a))"
      ],
      "execution_count": 0,
      "outputs": [
        {
          "output_type": "stream",
          "text": [
            "enter age:20\n",
            "20\n",
            "<class 'int'>\n"
          ],
          "name": "stdout"
        }
      ]
    },
    {
      "cell_type": "code",
      "metadata": {
        "id": "_iV43tNIS-TY",
        "colab_type": "code",
        "colab": {}
      },
      "source": [
        ""
      ],
      "execution_count": 0,
      "outputs": []
    },
    {
      "cell_type": "markdown",
      "metadata": {
        "id": "H_YBK3HSTY7L",
        "colab_type": "text"
      },
      "source": [
        "#Operators\n",
        "- operator is symbol used to perform a specific kind of operation\n",
        "\n",
        "#Arithematic Operator\n",
        "- +\n",
        "- -\n",
        "- *\n",
        "- /\n",
        "- %\n",
        "- //\n",
        "- **"
      ]
    },
    {
      "cell_type": "code",
      "metadata": {
        "id": "82JeMM_rUPRK",
        "colab_type": "code",
        "outputId": "4fa4af87-d94f-4ffd-80d8-4816ce1370af",
        "colab": {
          "base_uri": "https://localhost:8080/",
          "height": 136
        }
      },
      "source": [
        "n1=123\n",
        "print(n1+10)\n",
        "print(n1-10)\n",
        "print(n1*10)\n",
        "print(n1/10)\n",
        "print(n1%10)\n",
        "print(n1//10)\n",
        "print(n1**10)"
      ],
      "execution_count": 0,
      "outputs": [
        {
          "output_type": "stream",
          "text": [
            "133\n",
            "113\n",
            "1230\n",
            "12.3\n",
            "3\n",
            "12\n",
            "792594609605189126649\n"
          ],
          "name": "stdout"
        }
      ]
    },
    {
      "cell_type": "code",
      "metadata": {
        "id": "iw8bmwezUVbC",
        "colab_type": "code",
        "colab": {}
      },
      "source": [
        ""
      ],
      "execution_count": 0,
      "outputs": []
    },
    {
      "cell_type": "markdown",
      "metadata": {
        "id": "Dkx6XzKWVJPS",
        "colab_type": "text"
      },
      "source": [
        "#Precedence of Arth Operators\n",
        "- paranthesis\n",
        "- power\n",
        "- multiplication\n",
        "- division\n",
        "- addition"
      ]
    },
    {
      "cell_type": "code",
      "metadata": {
        "id": "m3d6-rXKVcg7",
        "colab_type": "code",
        "outputId": "699f9b9b-3e28-4050-8904-aa8dc02f3414",
        "colab": {
          "base_uri": "https://localhost:8080/",
          "height": 34
        }
      },
      "source": [
        "x=1+2**3/4+5\n",
        "print(x)"
      ],
      "execution_count": 0,
      "outputs": [
        {
          "output_type": "stream",
          "text": [
            "8.0\n"
          ],
          "name": "stdout"
        }
      ]
    },
    {
      "cell_type": "code",
      "metadata": {
        "id": "Zutp5jBoV3Qx",
        "colab_type": "code",
        "outputId": "d8e28a3b-cb38-46c9-9872-f89c3be8fdfd",
        "colab": {
          "base_uri": "https://localhost:8080/",
          "height": 34
        }
      },
      "source": [
        "x=1+2**3/4*5\n",
        "print(x)"
      ],
      "execution_count": 0,
      "outputs": [
        {
          "output_type": "stream",
          "text": [
            "11.0\n"
          ],
          "name": "stdout"
        }
      ]
    },
    {
      "cell_type": "markdown",
      "metadata": {
        "id": "yD62Xz0YYBzT",
        "colab_type": "text"
      },
      "source": [
        "#Relational Operators\n",
        "- ==\n",
        "- !=\n",
        "- <\n",
        "- ,>\n",
        "- <=\n",
        "- ,>=\n"
      ]
    },
    {
      "cell_type": "code",
      "metadata": {
        "id": "C6MfgjP0Yghc",
        "colab_type": "code",
        "outputId": "80f11a3c-ed1c-4ccb-8c2d-9c258bbed2d6",
        "colab": {
          "base_uri": "https://localhost:8080/",
          "height": 34
        }
      },
      "source": [
        "a=10\n",
        "a1=a>15\n",
        "print(a1)"
      ],
      "execution_count": 0,
      "outputs": [
        {
          "output_type": "stream",
          "text": [
            "False\n"
          ],
          "name": "stdout"
        }
      ]
    },
    {
      "cell_type": "markdown",
      "metadata": {
        "id": "7UjPVV7zY2U8",
        "colab_type": "text"
      },
      "source": [
        "#Logical Operators"
      ]
    },
    {
      "cell_type": "code",
      "metadata": {
        "id": "-NHgEGWoZA_D",
        "colab_type": "code",
        "outputId": "274873ed-b3ae-4c49-a474-2f8cc4523baa",
        "colab": {
          "base_uri": "https://localhost:8080/",
          "height": 68
        }
      },
      "source": [
        "x=20\n",
        "y=30\n",
        "print(x>=10 and x<=20)\n",
        "print(x>=10 or x<=20)\n",
        "print(not x)"
      ],
      "execution_count": 0,
      "outputs": [
        {
          "output_type": "stream",
          "text": [
            "True\n",
            "True\n",
            "False\n"
          ],
          "name": "stdout"
        }
      ]
    },
    {
      "cell_type": "code",
      "metadata": {
        "id": "WGSbkCn3ZauQ",
        "colab_type": "code",
        "colab": {}
      },
      "source": [
        ""
      ],
      "execution_count": 0,
      "outputs": []
    },
    {
      "cell_type": "markdown",
      "metadata": {
        "id": "Iiv-KWTqZ7WD",
        "colab_type": "text"
      },
      "source": [
        "#Membership Operator"
      ]
    },
    {
      "cell_type": "code",
      "metadata": {
        "id": "3Ru_9u9fZ_6b",
        "colab_type": "code",
        "outputId": "1536d016-7d7f-4c95-d5eb-7ca734813e5f",
        "colab": {
          "base_uri": "https://localhost:8080/",
          "height": 51
        }
      },
      "source": [
        "str1=\"abc\"\n",
        "print('a' in str1)\n",
        "print('a'not in str1)"
      ],
      "execution_count": 0,
      "outputs": [
        {
          "output_type": "stream",
          "text": [
            "True\n",
            "False\n"
          ],
          "name": "stdout"
        }
      ]
    },
    {
      "cell_type": "code",
      "metadata": {
        "id": "zWFUzSmcaSdP",
        "colab_type": "code",
        "colab": {}
      },
      "source": [
        ""
      ],
      "execution_count": 0,
      "outputs": []
    },
    {
      "cell_type": "markdown",
      "metadata": {
        "id": "TkAMXfOYaqYL",
        "colab_type": "text"
      },
      "source": [
        "#Conditional statements\n",
        "##If-else Statements\n",
        "###Syntax:\n",
        "####if condition:\n",
        ">statements<br>\n",
        "####else:\n",
        ">statements<br>"
      ]
    },
    {
      "cell_type": "code",
      "metadata": {
        "id": "Lt5NF_vrb5uU",
        "colab_type": "code",
        "outputId": "7d4dc457-4598-4aff-b51f-6871d217005c",
        "colab": {
          "base_uri": "https://localhost:8080/",
          "height": 51
        }
      },
      "source": [
        "#even or odd\n",
        "n=int(input(\"enter a number\"))\n",
        "if n%2==0:\n",
        "  print(\"even number\")\n",
        "else:\n",
        "    print(\"odd number\")"
      ],
      "execution_count": 0,
      "outputs": [
        {
          "output_type": "stream",
          "text": [
            "enter a number4\n",
            "even number\n"
          ],
          "name": "stdout"
        }
      ]
    },
    {
      "cell_type": "code",
      "metadata": {
        "id": "OvPP_oGVcTCb",
        "colab_type": "code",
        "outputId": "4d0cf394-5a4a-461d-f6c1-abaf11854cf9",
        "colab": {
          "base_uri": "https://localhost:8080/",
          "height": 51
        }
      },
      "source": [
        "#check given is perfectly multiple of 3 and 5\n",
        "n=int(input(\"enter a number\"))\n",
        "if n%3==0 and n%5==0:\n",
        "  print(\"divisible\")\n",
        "else:\n",
        "  print(\"no\")"
      ],
      "execution_count": 0,
      "outputs": [
        {
          "output_type": "stream",
          "text": [
            "enter a number15\n",
            "divisible\n"
          ],
          "name": "stdout"
        }
      ]
    },
    {
      "cell_type": "code",
      "metadata": {
        "id": "SM3t2UhkdRQ_",
        "colab_type": "code",
        "outputId": "ab679026-4053-494f-9d12-5b56191343c8",
        "colab": {
          "base_uri": "https://localhost:8080/",
          "height": 51
        }
      },
      "source": [
        "#check given number is positive or negative or zero\n",
        "n=int(input(\"enter a number\"))\n",
        "if n>1:\n",
        "  print(\"positive\")\n",
        "elif n<0:\n",
        "  print(\"negative\")\n",
        "else:\n",
        "  print(\"zero\")\n"
      ],
      "execution_count": 0,
      "outputs": [
        {
          "output_type": "stream",
          "text": [
            "enter a number10\n",
            "positive\n"
          ],
          "name": "stdout"
        }
      ]
    },
    {
      "cell_type": "code",
      "metadata": {
        "id": "WUGN4Ijyd5_g",
        "colab_type": "code",
        "outputId": "b581ba41-1028-4f53-bdde-3453905044e8",
        "colab": {
          "base_uri": "https://localhost:8080/",
          "height": 51
        }
      },
      "source": [
        "#given number is leap year or not\n",
        "n=int(input(\"enter the year\"))\n",
        "if n%4==0 and n%100!=0:\n",
        " print(\"it is leap year\")\n",
        "else:\n",
        "  print(\"not a leap year\")"
      ],
      "execution_count": 0,
      "outputs": [
        {
          "output_type": "stream",
          "text": [
            "enter the year2017\n",
            "not a leap year\n"
          ],
          "name": "stdout"
        }
      ]
    },
    {
      "cell_type": "code",
      "metadata": {
        "id": "UbbqYJI_f_as",
        "colab_type": "code",
        "colab": {}
      },
      "source": [
        ""
      ],
      "execution_count": 0,
      "outputs": []
    }
  ]
}