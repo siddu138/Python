{
  "nbformat": 4,
  "nbformat_minor": 0,
  "metadata": {
    "colab": {
      "name": "27-12-19.ipynb",
      "provenance": [],
      "collapsed_sections": [],
      "include_colab_link": true
    },
    "kernelspec": {
      "name": "python3",
      "display_name": "Python 3"
    }
  },
  "cells": [
    {
      "cell_type": "markdown",
      "metadata": {
        "id": "view-in-github",
        "colab_type": "text"
      },
      "source": [
        "<a href=\"https://colab.research.google.com/github/siddu138/Python/blob/master/27_12_19.ipynb\" target=\"_parent\"><img src=\"https://colab.research.google.com/assets/colab-badge.svg\" alt=\"Open In Colab\"/></a>"
      ]
    },
    {
      "cell_type": "markdown",
      "metadata": {
        "id": "QUE_srlnd-EE",
        "colab_type": "text"
      },
      "source": [
        "#List Examples\n"
      ]
    },
    {
      "cell_type": "code",
      "metadata": {
        "id": "abMFT6k2eC5x",
        "colab_type": "code",
        "colab": {
          "base_uri": "https://localhost:8080/",
          "height": 170
        },
        "outputId": "b01919c4-30cb-4b58-b1fb-04ee4bf50c88"
      },
      "source": [
        "li=[\"gitam\",123,123,1323,1232,3451]\n",
        "print(li)\n",
        "print(li[1])\n",
        "print(li[2:])\n",
        "print(li[2:4])\n",
        "print(li[-1])\n",
        "print(li[-4:-1])\n",
        "print(li[:5])\n",
        "print(li[::-1])\n",
        "print(li[-1::-1])"
      ],
      "execution_count": 46,
      "outputs": [
        {
          "output_type": "stream",
          "text": [
            "['gitam', 123, 123, 1323, 1232, 3451]\n",
            "123\n",
            "[123, 1323, 1232, 3451]\n",
            "[123, 1323]\n",
            "3451\n",
            "[123, 1323, 1232]\n",
            "['gitam', 123, 123, 1323, 1232]\n",
            "[3451, 1232, 1323, 123, 123, 'gitam']\n",
            "[3451, 1232, 1323, 123, 123, 'gitam']\n"
          ],
          "name": "stdout"
        }
      ]
    },
    {
      "cell_type": "code",
      "metadata": {
        "id": "vliLMuU0eR3j",
        "colab_type": "code",
        "colab": {
          "base_uri": "https://localhost:8080/",
          "height": 34
        },
        "outputId": "05af95c8-200b-476d-c6dc-ccba9ba950e6"
      },
      "source": [
        "#update\n",
        "li[0]=\"siddu\"\n",
        "print(li)"
      ],
      "execution_count": 2,
      "outputs": [
        {
          "output_type": "stream",
          "text": [
            "['siddu', 123, 123, 1323, 1232, 3451]\n"
          ],
          "name": "stdout"
        }
      ]
    },
    {
      "cell_type": "code",
      "metadata": {
        "id": "zhOmYc8GetK_",
        "colab_type": "code",
        "colab": {
          "base_uri": "https://localhost:8080/",
          "height": 34
        },
        "outputId": "e25221a0-96b5-4476-8fae-75a238b93ff5"
      },
      "source": [
        "#delete\n",
        "del li[3]\n",
        "print(li)"
      ],
      "execution_count": 3,
      "outputs": [
        {
          "output_type": "stream",
          "text": [
            "['siddu', 123, 123, 1232, 3451]\n"
          ],
          "name": "stdout"
        }
      ]
    },
    {
      "cell_type": "code",
      "metadata": {
        "id": "0OTqOpI_fHkX",
        "colab_type": "code",
        "colab": {
          "base_uri": "https://localhost:8080/",
          "height": 34
        },
        "outputId": "901f25ac-1343-4eba-c230-92ddf1c211ca"
      },
      "source": [
        "li=[1,2,3,4]\n",
        "print(len(li))"
      ],
      "execution_count": 4,
      "outputs": [
        {
          "output_type": "stream",
          "text": [
            "4\n"
          ],
          "name": "stdout"
        }
      ]
    },
    {
      "cell_type": "code",
      "metadata": {
        "id": "Z_YkSiHkgy4f",
        "colab_type": "code",
        "colab": {
          "base_uri": "https://localhost:8080/",
          "height": 34
        },
        "outputId": "9a7fd94d-9bb1-4c48-99ea-6b232a8c6b1a"
      },
      "source": [
        "li*2"
      ],
      "execution_count": 5,
      "outputs": [
        {
          "output_type": "execute_result",
          "data": {
            "text/plain": [
              "[1, 2, 3, 4, 1, 2, 3, 4]"
            ]
          },
          "metadata": {
            "tags": []
          },
          "execution_count": 5
        }
      ]
    },
    {
      "cell_type": "code",
      "metadata": {
        "id": "5T-tZ9FahH0v",
        "colab_type": "code",
        "colab": {
          "base_uri": "https://localhost:8080/",
          "height": 34
        },
        "outputId": "927ab75c-54ba-4d3b-d462-3db47c94e9da"
      },
      "source": [
        "print(3 in li)"
      ],
      "execution_count": 6,
      "outputs": [
        {
          "output_type": "stream",
          "text": [
            "True\n"
          ],
          "name": "stdout"
        }
      ]
    },
    {
      "cell_type": "code",
      "metadata": {
        "id": "_08ylTNthQCm",
        "colab_type": "code",
        "colab": {
          "base_uri": "https://localhost:8080/",
          "height": 51
        },
        "outputId": "1f945833-a1c3-4f9c-ac1a-ced943b7fe56"
      },
      "source": [
        "li=[22,11,33,4,55,66]\n",
        "print(len(li))\n",
        "print(33 in li)"
      ],
      "execution_count": 8,
      "outputs": [
        {
          "output_type": "stream",
          "text": [
            "6\n",
            "True\n"
          ],
          "name": "stdout"
        }
      ]
    },
    {
      "cell_type": "markdown",
      "metadata": {
        "id": "1TtuIgyHhm-J",
        "colab_type": "text"
      },
      "source": [
        "#Basic List Functions\n"
      ]
    },
    {
      "cell_type": "code",
      "metadata": {
        "id": "qe7p_0Cahr3K",
        "colab_type": "code",
        "colab": {
          "base_uri": "https://localhost:8080/",
          "height": 34
        },
        "outputId": "c75ab88b-dfce-4c72-d23c-bb23b794bab4"
      },
      "source": [
        "li=[1,2,3,4,5]\n",
        "print(max(li))"
      ],
      "execution_count": 9,
      "outputs": [
        {
          "output_type": "stream",
          "text": [
            "5\n"
          ],
          "name": "stdout"
        }
      ]
    },
    {
      "cell_type": "code",
      "metadata": {
        "id": "vJTmg_hoh0iL",
        "colab_type": "code",
        "colab": {
          "base_uri": "https://localhost:8080/",
          "height": 34
        },
        "outputId": "68f83a5f-bf94-42ba-edf7-c4862ba484d7"
      },
      "source": [
        "print(min(li))"
      ],
      "execution_count": 10,
      "outputs": [
        {
          "output_type": "stream",
          "text": [
            "1\n"
          ],
          "name": "stdout"
        }
      ]
    },
    {
      "cell_type": "code",
      "metadata": {
        "id": "_bNhXMqIh2jf",
        "colab_type": "code",
        "colab": {
          "base_uri": "https://localhost:8080/",
          "height": 34
        },
        "outputId": "23726277-0a93-41c3-876e-d052a3a93dce"
      },
      "source": [
        "print(sum(li))"
      ],
      "execution_count": 11,
      "outputs": [
        {
          "output_type": "stream",
          "text": [
            "15\n"
          ],
          "name": "stdout"
        }
      ]
    },
    {
      "cell_type": "code",
      "metadata": {
        "id": "9YJvWlCgh5Z-",
        "colab_type": "code",
        "colab": {
          "base_uri": "https://localhost:8080/",
          "height": 34
        },
        "outputId": "b53f8a0a-ecba-41de-a2d5-3f9deca009df"
      },
      "source": [
        "print(sum(li)/len(li))"
      ],
      "execution_count": 15,
      "outputs": [
        {
          "output_type": "stream",
          "text": [
            "3.0\n"
          ],
          "name": "stdout"
        }
      ]
    },
    {
      "cell_type": "code",
      "metadata": {
        "id": "66kNCy_BiOZ4",
        "colab_type": "code",
        "colab": {
          "base_uri": "https://localhost:8080/",
          "height": 34
        },
        "outputId": "d05743a1-528e-49a9-f9f7-cb8df3a03584"
      },
      "source": [
        "li=[1,2,3,4,5,6] #to add an element at the end of the list\n",
        "li.append(29)\n",
        "print(li)"
      ],
      "execution_count": 18,
      "outputs": [
        {
          "output_type": "stream",
          "text": [
            "[1, 2, 3, 4, 5, 6, 29]\n"
          ],
          "name": "stdout"
        }
      ]
    },
    {
      "cell_type": "code",
      "metadata": {
        "id": "7keOPDd5i_e3",
        "colab_type": "code",
        "colab": {}
      },
      "source": [
        "li.insert(2,9)  #insert an element in the list"
      ],
      "execution_count": 0,
      "outputs": []
    },
    {
      "cell_type": "code",
      "metadata": {
        "id": "uJocFcQnjddP",
        "colab_type": "code",
        "colab": {
          "base_uri": "https://localhost:8080/",
          "height": 34
        },
        "outputId": "fd43524d-c760-4d40-c602-1b067a7519da"
      },
      "source": [
        "li"
      ],
      "execution_count": 20,
      "outputs": [
        {
          "output_type": "execute_result",
          "data": {
            "text/plain": [
              "[1, 2, 9, 3, 4, 5, 6, 29]"
            ]
          },
          "metadata": {
            "tags": []
          },
          "execution_count": 20
        }
      ]
    },
    {
      "cell_type": "code",
      "metadata": {
        "id": "gVWHVowxje_3",
        "colab_type": "code",
        "colab": {
          "base_uri": "https://localhost:8080/",
          "height": 34
        },
        "outputId": "ac43e96d-5c1e-456d-9a21-f44ef1d4dfb5"
      },
      "source": [
        "li=[1,2,7,4,6,5]  # sorts list in ascending order\n",
        "li.sort()\n",
        "print(li)"
      ],
      "execution_count": 22,
      "outputs": [
        {
          "output_type": "stream",
          "text": [
            "[1, 2, 4, 5, 6, 7]\n"
          ],
          "name": "stdout"
        }
      ]
    },
    {
      "cell_type": "code",
      "metadata": {
        "id": "Xr-lpxfUj_wz",
        "colab_type": "code",
        "colab": {
          "base_uri": "https://localhost:8080/",
          "height": 34
        },
        "outputId": "867d7c94-dab3-4a46-cada-5b7d23a50436"
      },
      "source": [
        "print(li.pop())\n",
        "print(li) #pop removes last index"
      ],
      "execution_count": 23,
      "outputs": [
        {
          "output_type": "stream",
          "text": [
            "[1, 2, 4, 5, 6]\n"
          ],
          "name": "stdout"
        }
      ]
    },
    {
      "cell_type": "code",
      "metadata": {
        "id": "fFspdY2FkYk3",
        "colab_type": "code",
        "colab": {
          "base_uri": "https://localhost:8080/",
          "height": 51
        },
        "outputId": "f2acf86b-a4a3-41d8-8416-57059f048436"
      },
      "source": [
        "#Function to return large number from list\n",
        "def largenumber(li):\n",
        "  li.sort()\n",
        "  return li[-1]\n",
        "def genericlarge(li,n):\n",
        "  li.sort()\n",
        "  return li[-n]\n",
        "li=[19,1,3,87,32,21,36]\n",
        "print(largenumber(li))\n",
        "print(genericlarge(li,3))"
      ],
      "execution_count": 24,
      "outputs": [
        {
          "output_type": "stream",
          "text": [
            "87\n",
            "32\n"
          ],
          "name": "stdout"
        }
      ]
    },
    {
      "cell_type": "code",
      "metadata": {
        "id": "JOuTgXD1mtYF",
        "colab_type": "code",
        "colab": {
          "base_uri": "https://localhost:8080/",
          "height": 51
        },
        "outputId": "18f0e2d1-24bb-4f32-af98-9774110c8a0c"
      },
      "source": [
        "#Function to return small number from list\n",
        "def smallnumber(li):\n",
        "  li.sort()\n",
        "  return li[0]\n",
        "def genericsmall(li,n):\n",
        "  li.sort()\n",
        "  return li[n-1]\n",
        "li=[4,1,3,87,21,36]\n",
        "print(smallnumber(li)) \n",
        "print(genericsmall(li,2))"
      ],
      "execution_count": 32,
      "outputs": [
        {
          "output_type": "stream",
          "text": [
            "1\n",
            "3\n"
          ],
          "name": "stdout"
        }
      ]
    },
    {
      "cell_type": "markdown",
      "metadata": {
        "id": "PSv9WLq1pYkC",
        "colab_type": "text"
      },
      "source": [
        "#Tuples\n",
        "- Values separated by comma enclosed by paranthesis()\n",
        "- Values cannot be changed i.e, immutable\n",
        "\n",
        "#Difference between list and tuple\n",
        "- List can be modified\n",
        "- List used to access means modify,add,delete,update\n",
        "- Tuple cannot be modified\n",
        "- Used to access data only\n"
      ]
    },
    {
      "cell_type": "code",
      "metadata": {
        "id": "f9Tia8HwqklQ",
        "colab_type": "code",
        "colab": {
          "base_uri": "https://localhost:8080/",
          "height": 51
        },
        "outputId": "ade0b76a-48c5-41a0-b4a7-d07ce446209b"
      },
      "source": [
        "#Example\n",
        "t1=(1,2,3,4,5)\n",
        "print(t1)\n",
        "print(type(t1))"
      ],
      "execution_count": 36,
      "outputs": [
        {
          "output_type": "stream",
          "text": [
            "(1, 2, 3, 4, 5)\n",
            "<class 'tuple'>\n"
          ],
          "name": "stdout"
        }
      ]
    },
    {
      "cell_type": "markdown",
      "metadata": {
        "id": "YbC74a0pt5g0",
        "colab_type": "text"
      },
      "source": [
        "#Dictionaries\n",
        "- Works on the concept of set unique data\n",
        "- Dictionary contains keys and values\n",
        "- Each key is separated from its values with colon ':'\n",
        "- Each key and values separated by comma ','\n",
        "- Dictionary enclosed by {}\n"
      ]
    },
    {
      "cell_type": "code",
      "metadata": {
        "id": "ppxSc5dhu1nD",
        "colab_type": "code",
        "colab": {
          "base_uri": "https://localhost:8080/",
          "height": 34
        },
        "outputId": "65b8912d-5e69-4a22-f6cb-08b7a7c13a06"
      },
      "source": [
        "#Example\n",
        "d1={\"name\":\"GITAM\",\"Email\":\"gitam@gmail.com\",\"address\":\"Hyderabad\"}\n",
        "print(d1)"
      ],
      "execution_count": 48,
      "outputs": [
        {
          "output_type": "stream",
          "text": [
            "{'name': 'GITAM', 'Email': 'gitam@gmail.com', 'address': 'Hyderabad'}\n"
          ],
          "name": "stdout"
        }
      ]
    },
    {
      "cell_type": "code",
      "metadata": {
        "id": "kRNkRe_xvOxY",
        "colab_type": "code",
        "colab": {
          "base_uri": "https://localhost:8080/",
          "height": 34
        },
        "outputId": "4b69d80c-cb25-4b78-8870-2fd6ec469251"
      },
      "source": [
        "d1[\"name\"]"
      ],
      "execution_count": 50,
      "outputs": [
        {
          "output_type": "execute_result",
          "data": {
            "text/plain": [
              "'GITAM'"
            ]
          },
          "metadata": {
            "tags": []
          },
          "execution_count": 50
        }
      ]
    },
    {
      "cell_type": "code",
      "metadata": {
        "id": "2DeF4iMBvqYu",
        "colab_type": "code",
        "colab": {
          "base_uri": "https://localhost:8080/",
          "height": 34
        },
        "outputId": "e9089895-0466-4041-e807-c26c208d4885"
      },
      "source": [
        "d1['course']='python'\n",
        "print(d1)"
      ],
      "execution_count": 54,
      "outputs": [
        {
          "output_type": "stream",
          "text": [
            "{'name': 'GITAM', 'Email': 'gitam@gmail.com', 'address': 'Hyderabad', 'course': 'python'}\n"
          ],
          "name": "stdout"
        }
      ]
    },
    {
      "cell_type": "code",
      "metadata": {
        "id": "AzCZOCxJxJH_",
        "colab_type": "code",
        "colab": {
          "base_uri": "https://localhost:8080/",
          "height": 34
        },
        "outputId": "ab06bbd0-510b-48d1-c7b8-c5e72eea98d3"
      },
      "source": [
        "#delete \n",
        "del d1[\"Email\"]\n",
        "print(d1)"
      ],
      "execution_count": 57,
      "outputs": [
        {
          "output_type": "stream",
          "text": [
            "{'name': 'GITAM', 'address': 'Hyderabad', 'course': 'python'}\n"
          ],
          "name": "stdout"
        }
      ]
    },
    {
      "cell_type": "code",
      "metadata": {
        "id": "5EPgHjlXxdHv",
        "colab_type": "code",
        "colab": {
          "base_uri": "https://localhost:8080/",
          "height": 34
        },
        "outputId": "c28a847a-5c96-4dfc-cb1e-e919f5c4070c"
      },
      "source": [
        "d1.keys()"
      ],
      "execution_count": 58,
      "outputs": [
        {
          "output_type": "execute_result",
          "data": {
            "text/plain": [
              "dict_keys(['name', 'address', 'course'])"
            ]
          },
          "metadata": {
            "tags": []
          },
          "execution_count": 58
        }
      ]
    },
    {
      "cell_type": "code",
      "metadata": {
        "id": "ghO_FPlcz0HH",
        "colab_type": "code",
        "colab": {
          "base_uri": "https://localhost:8080/",
          "height": 34
        },
        "outputId": "665cbeb6-5764-4adb-ed59-466be307d441"
      },
      "source": [
        "d1.values()"
      ],
      "execution_count": 59,
      "outputs": [
        {
          "output_type": "execute_result",
          "data": {
            "text/plain": [
              "dict_values(['GITAM', 'Hyderabad', 'python'])"
            ]
          },
          "metadata": {
            "tags": []
          },
          "execution_count": 59
        }
      ]
    },
    {
      "cell_type": "code",
      "metadata": {
        "id": "OvI4ateez2jz",
        "colab_type": "code",
        "colab": {
          "base_uri": "https://localhost:8080/",
          "height": 34
        },
        "outputId": "e1f4e8b6-6e88-487d-c486-085f16121dc0"
      },
      "source": [
        "d1.items()"
      ],
      "execution_count": 60,
      "outputs": [
        {
          "output_type": "execute_result",
          "data": {
            "text/plain": [
              "dict_items([('name', 'GITAM'), ('address', 'Hyderabad'), ('course', 'python')])"
            ]
          },
          "metadata": {
            "tags": []
          },
          "execution_count": 60
        }
      ]
    },
    {
      "cell_type": "code",
      "metadata": {
        "id": "lutJFfVe0NS-",
        "colab_type": "code",
        "colab": {}
      },
      "source": [
        ""
      ],
      "execution_count": 0,
      "outputs": []
    },
    {
      "cell_type": "markdown",
      "metadata": {
        "id": "T-qwazUH0a3E",
        "colab_type": "text"
      },
      "source": [
        "#Strings:"
      ]
    },
    {
      "cell_type": "code",
      "metadata": {
        "id": "UEKpHEMG0gki",
        "colab_type": "code",
        "colab": {
          "base_uri": "https://localhost:8080/",
          "height": 51
        },
        "outputId": "ab0eea86-d752-45d9-b771-89a987d3d360"
      },
      "source": [
        "s1='Python'\n",
        "print(s1)\n",
        "print(type(s1))"
      ],
      "execution_count": 62,
      "outputs": [
        {
          "output_type": "stream",
          "text": [
            "Python\n",
            "<class 'str'>\n"
          ],
          "name": "stdout"
        }
      ]
    },
    {
      "cell_type": "code",
      "metadata": {
        "id": "8rtqGgTx0kQO",
        "colab_type": "code",
        "colab": {
          "base_uri": "https://localhost:8080/",
          "height": 85
        },
        "outputId": "962ce563-aafe-4921-ebc6-ef71a064fdc9"
      },
      "source": [
        "s1='Python'\n",
        "print(s1[0])\n",
        "print(s1[5])\n",
        "print(s1[2:])\n",
        "print(s1[-1::-1])"
      ],
      "execution_count": 66,
      "outputs": [
        {
          "output_type": "stream",
          "text": [
            "P\n",
            "n\n",
            "thon\n",
            "nohtyP\n"
          ],
          "name": "stdout"
        }
      ]
    },
    {
      "cell_type": "code",
      "metadata": {
        "id": "1-o3Q2gA072-",
        "colab_type": "code",
        "colab": {
          "base_uri": "https://localhost:8080/",
          "height": 51
        },
        "outputId": "2700cfb3-9ff2-4825-c8fd-da76db52985d"
      },
      "source": [
        "print(s1[len(s1)//2]) #access middle character\n",
        "print(s1[0:6:3])      #interval"
      ],
      "execution_count": 70,
      "outputs": [
        {
          "output_type": "stream",
          "text": [
            "h\n",
            "Ph\n"
          ],
          "name": "stdout"
        }
      ]
    },
    {
      "cell_type": "code",
      "metadata": {
        "id": "uy01B5gJ2EOg",
        "colab_type": "code",
        "colab": {
          "base_uri": "https://localhost:8080/",
          "height": 34
        },
        "outputId": "03688d20-d6b9-4402-8ac3-1b755bb56451"
      },
      "source": [
        "#using function reverse of string\n",
        "def reversestring(s1):\n",
        "  return s1[::-1]\n",
        "reversestring(\"programming\")"
      ],
      "execution_count": 72,
      "outputs": [
        {
          "output_type": "execute_result",
          "data": {
            "text/plain": [
              "'gnimmargorp'"
            ]
          },
          "metadata": {
            "tags": []
          },
          "execution_count": 72
        }
      ]
    },
    {
      "cell_type": "code",
      "metadata": {
        "id": "VbYmS78C3QHn",
        "colab_type": "code",
        "colab": {
          "base_uri": "https://localhost:8080/",
          "height": 51
        },
        "outputId": "4a29cc46-5de0-492e-fb08-c0381e5a55e7"
      },
      "source": [
        "#Palindrome or not\n",
        "def palin(s1):\n",
        "  rev=0\n",
        "  temp=s1\n",
        "  rev=s1[::-1]\n",
        "  if temp==rev:\n",
        "    return \"palindrome\"\n",
        "  else:\n",
        "    return \"not palindrome\"\n",
        "print(palin(\"bob\"))\n",
        "print(palin('1212'))\n",
        "\n",
        "\n"
      ],
      "execution_count": 77,
      "outputs": [
        {
          "output_type": "stream",
          "text": [
            "palindrome\n",
            "not palindrome\n"
          ],
          "name": "stdout"
        }
      ]
    },
    {
      "cell_type": "code",
      "metadata": {
        "id": "6LHvVl3E4jgT",
        "colab_type": "code",
        "colab": {
          "base_uri": "https://localhost:8080/",
          "height": 51
        },
        "outputId": "da703470-44ba-4014-de7d-4db0fd795ce9"
      },
      "source": [
        "def reverseofstring(str):\n",
        "  if str==str[::-1]:\n",
        "    return True\n",
        "  else:\n",
        "    return False\n",
        "print(reverseofstring(\"program\"))\n",
        "print(reverseofstring(\"ganag\"))"
      ],
      "execution_count": 79,
      "outputs": [
        {
          "output_type": "stream",
          "text": [
            "False\n",
            "True\n"
          ],
          "name": "stdout"
        }
      ]
    },
    {
      "cell_type": "markdown",
      "metadata": {
        "id": "3Y5w94nR6w3A",
        "colab_type": "text"
      },
      "source": [
        "#String Build-in Methods\n",
        "- upper()\n",
        "- lower()\n",
        "- isupper()\n",
        "- istitle()\n",
        "- islower()\n",
        "- isnumeric()\n",
        "- isalpha()\n",
        "- isspace()"
      ]
    },
    {
      "cell_type": "code",
      "metadata": {
        "id": "x8XAnzTZ7r8d",
        "colab_type": "code",
        "colab": {
          "base_uri": "https://localhost:8080/",
          "height": 34
        },
        "outputId": "0f4fc23a-a39f-4631-db26-786df70c975d"
      },
      "source": [
        "s1='python'\n",
        "print(s1.upper())"
      ],
      "execution_count": 80,
      "outputs": [
        {
          "output_type": "stream",
          "text": [
            "PYTHON\n"
          ],
          "name": "stdout"
        }
      ]
    },
    {
      "cell_type": "code",
      "metadata": {
        "id": "LMBbgSBu7xBm",
        "colab_type": "code",
        "colab": {
          "base_uri": "https://localhost:8080/",
          "height": 34
        },
        "outputId": "7f6035e4-e351-4166-c9bc-5f4cd883b82f"
      },
      "source": [
        "print(s1.lower())"
      ],
      "execution_count": 81,
      "outputs": [
        {
          "output_type": "stream",
          "text": [
            "python\n"
          ],
          "name": "stdout"
        }
      ]
    },
    {
      "cell_type": "code",
      "metadata": {
        "id": "9LjlIvyz7012",
        "colab_type": "code",
        "colab": {
          "base_uri": "https://localhost:8080/",
          "height": 34
        },
        "outputId": "3c435d42-a519-4afc-cb37-395f60c42a1e"
      },
      "source": [
        "print(s1.islower())"
      ],
      "execution_count": 82,
      "outputs": [
        {
          "output_type": "stream",
          "text": [
            "True\n"
          ],
          "name": "stdout"
        }
      ]
    },
    {
      "cell_type": "code",
      "metadata": {
        "id": "NfwHR07w73_e",
        "colab_type": "code",
        "colab": {
          "base_uri": "https://localhost:8080/",
          "height": 34
        },
        "outputId": "0f71a15e-f598-4fda-e543-8397c68824fd"
      },
      "source": [
        "print(s1.isupper())"
      ],
      "execution_count": 83,
      "outputs": [
        {
          "output_type": "stream",
          "text": [
            "False\n"
          ],
          "name": "stdout"
        }
      ]
    },
    {
      "cell_type": "code",
      "metadata": {
        "id": "DTKlLfDM77H4",
        "colab_type": "code",
        "colab": {
          "base_uri": "https://localhost:8080/",
          "height": 34
        },
        "outputId": "d185d08f-5955-43d4-c928-7d2d8951c765"
      },
      "source": [
        "print(s1.istitle())"
      ],
      "execution_count": 84,
      "outputs": [
        {
          "output_type": "stream",
          "text": [
            "False\n"
          ],
          "name": "stdout"
        }
      ]
    },
    {
      "cell_type": "code",
      "metadata": {
        "id": "D2yrZueL7_Yv",
        "colab_type": "code",
        "colab": {
          "base_uri": "https://localhost:8080/",
          "height": 68
        },
        "outputId": "b1bb178e-b503-469f-cf0b-f3a01e7a7160"
      },
      "source": [
        "print(s1.isnumeric())\n",
        "print(s1.isalpha())\n",
        "print(s1.isspace())"
      ],
      "execution_count": 89,
      "outputs": [
        {
          "output_type": "stream",
          "text": [
            "False\n",
            "True\n",
            "False\n"
          ],
          "name": "stdout"
        }
      ]
    },
    {
      "cell_type": "code",
      "metadata": {
        "id": "a-KyqLcU8F7_",
        "colab_type": "code",
        "colab": {
          "base_uri": "https://localhost:8080/",
          "height": 34
        },
        "outputId": "9e1fb17b-f29b-44f6-f7cf-b83f8bc59618"
      },
      "source": [
        "s1=' '\n",
        "print(s1.isspace())"
      ],
      "execution_count": 91,
      "outputs": [
        {
          "output_type": "stream",
          "text": [
            "True\n"
          ],
          "name": "stdout"
        }
      ]
    },
    {
      "cell_type": "markdown",
      "metadata": {
        "id": "2K9zyw8s-9kv",
        "colab_type": "text"
      },
      "source": [
        "#String Methods\n",
        "- join()\n",
        "- split()\n",
        "- replace()\n"
      ]
    },
    {
      "cell_type": "code",
      "metadata": {
        "id": "_bEqNEig_c9E",
        "colab_type": "code",
        "colab": {
          "base_uri": "https://localhost:8080/",
          "height": 51
        },
        "outputId": "a2954426-bc71-4857-f2aa-595b1ebe8eca"
      },
      "source": [
        "s1='python'\n",
        "print(\" \".join(s1))\n",
        "print(\",\".join(s1))"
      ],
      "execution_count": 95,
      "outputs": [
        {
          "output_type": "stream",
          "text": [
            "p y t h o n\n",
            "p,y,t,h,o,n\n"
          ],
          "name": "stdout"
        }
      ]
    },
    {
      "cell_type": "code",
      "metadata": {
        "id": "vdddLZhK_l-g",
        "colab_type": "code",
        "colab": {
          "base_uri": "https://localhost:8080/",
          "height": 34
        },
        "outputId": "23633cf2-ebcc-4b87-9934-c1b44ef6bdac"
      },
      "source": [
        "s1=\"python is easy to learn\"\n",
        "print(\",\".join(s1))"
      ],
      "execution_count": 96,
      "outputs": [
        {
          "output_type": "stream",
          "text": [
            "p,y,t,h,o,n, ,i,s, ,e,a,s,y, ,t,o, ,l,e,a,r,n\n"
          ],
          "name": "stdout"
        }
      ]
    },
    {
      "cell_type": "code",
      "metadata": {
        "id": "JjILHZk2ACSW",
        "colab_type": "code",
        "colab": {
          "base_uri": "https://localhost:8080/",
          "height": 51
        },
        "outputId": "04f83bbc-c14c-484a-d084-2230857bfed4"
      },
      "source": [
        "s1=\"python is easy to learn\"\n",
        "print(s1.split())\n",
        "print(s1.split('a'))"
      ],
      "execution_count": 98,
      "outputs": [
        {
          "output_type": "stream",
          "text": [
            "['python', 'is', 'easy', 'to', 'learn']\n",
            "['python is e', 'sy to le', 'rn']\n"
          ],
          "name": "stdout"
        }
      ]
    },
    {
      "cell_type": "code",
      "metadata": {
        "id": "_L_RAQanAL43",
        "colab_type": "code",
        "colab": {
          "base_uri": "https://localhost:8080/",
          "height": 34
        },
        "outputId": "c2a5fefe-7491-4cdd-c760-c9d0ee531825"
      },
      "source": [
        "s1=\"python is easy to learn\"\n",
        "li=list(s1)\n",
        "print(li)"
      ],
      "execution_count": 100,
      "outputs": [
        {
          "output_type": "stream",
          "text": [
            "['p', 'y', 't', 'h', 'o', 'n', ' ', 'i', 's', ' ', 'e', 'a', 's', 'y', ' ', 't', 'o', ' ', 'l', 'e', 'a', 'r', 'n']\n"
          ],
          "name": "stdout"
        }
      ]
    },
    {
      "cell_type": "code",
      "metadata": {
        "id": "xgu76F0JAuTH",
        "colab_type": "code",
        "colab": {
          "base_uri": "https://localhost:8080/",
          "height": 34
        },
        "outputId": "df00c223-c0bb-4880-927a-5db0127f0425"
      },
      "source": [
        "s1=\"python is easy to learn\"\n",
        "print(s1.replace(\"easy\",\"very easy\"))"
      ],
      "execution_count": 101,
      "outputs": [
        {
          "output_type": "stream",
          "text": [
            "python is very easy to learn\n"
          ],
          "name": "stdout"
        }
      ]
    },
    {
      "cell_type": "code",
      "metadata": {
        "id": "a7vYg_e0BkS3",
        "colab_type": "code",
        "colab": {}
      },
      "source": [
        "marks={'peter':[80,85,90],'joe':[86,90,95]}\n",
        "#output:1.[80,85,90]\n",
        "#2.85\n",
        "#3.86\n",
        "#4.[95,90,86]\n"
      ],
      "execution_count": 0,
      "outputs": []
    },
    {
      "cell_type": "code",
      "metadata": {
        "id": "20RvEqblFQ03",
        "colab_type": "code",
        "colab": {
          "base_uri": "https://localhost:8080/",
          "height": 85
        },
        "outputId": "2b252293-2410-4276-9c7e-be2b2c805bc9"
      },
      "source": [
        "print(marks['peter'])\n",
        "l1=marks['peter']\n",
        "l2=marks['joe']\n",
        "print(l1[1])\n",
        "print(l2[0])\n",
        "print(l2[::-1])\n"
      ],
      "execution_count": 123,
      "outputs": [
        {
          "output_type": "stream",
          "text": [
            "[80, 85, 90]\n",
            "85\n",
            "86\n",
            "[95, 90, 86]\n"
          ],
          "name": "stdout"
        }
      ]
    }
  ]
}