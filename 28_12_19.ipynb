{
  "nbformat": 4,
  "nbformat_minor": 0,
  "metadata": {
    "colab": {
      "name": "28-12-19.ipynb",
      "provenance": [],
      "include_colab_link": true
    },
    "kernelspec": {
      "name": "python3",
      "display_name": "Python 3"
    }
  },
  "cells": [
    {
      "cell_type": "markdown",
      "metadata": {
        "id": "view-in-github",
        "colab_type": "text"
      },
      "source": [
        "<a href=\"https://colab.research.google.com/github/siddu138/Python/blob/master/28_12_19.ipynb\" target=\"_parent\"><img src=\"https://colab.research.google.com/assets/colab-badge.svg\" alt=\"Open In Colab\"/></a>"
      ]
    },
    {
      "cell_type": "code",
      "metadata": {
        "id": "STu9LGgGjudc",
        "colab_type": "code",
        "colab": {
          "base_uri": "https://localhost:8080/",
          "height": 34
        },
        "outputId": "c19c0458-9155-4f1c-cdf2-fdee2e51ddf6"
      },
      "source": [
        "#input str=\"pynative\"\n",
        "#output='p','n','t','v'. Complete this question using Function.\n",
        "def split(n):\n",
        "  li=list(n)\n",
        "  return (li)[::2]\n",
        "split('pynative')"
      ],
      "execution_count": 6,
      "outputs": [
        {
          "output_type": "execute_result",
          "data": {
            "text/plain": [
              "['p', 'n', 't', 'v']"
            ]
          },
          "metadata": {
            "tags": []
          },
          "execution_count": 6
        }
      ]
    },
    {
      "cell_type": "code",
      "metadata": {
        "id": "sXu5sMV7qgQe",
        "colab_type": "code",
        "colab": {
          "base_uri": "https://localhost:8080/",
          "height": 51
        },
        "outputId": "da16852e-598a-4203-aef5-01c029fd0e5a"
      },
      "source": [
        "#Given a list of integers,return true if first and last number of a list is same\n",
        "def firstandlast(n):\n",
        "  if n[0]==n[-1]:\n",
        "    return True\n",
        "  else:\n",
        "    return False\n",
        "n1=[1,2,4,1]\n",
        "n2=[23,4,5,6]\n",
        "print(firstandlast(n1))\n",
        "print(firstandlast(n2))"
      ],
      "execution_count": 8,
      "outputs": [
        {
          "output_type": "stream",
          "text": [
            "True\n",
            "False\n"
          ],
          "name": "stdout"
        }
      ]
    },
    {
      "cell_type": "code",
      "metadata": {
        "id": "WIuZNG2dsFm6",
        "colab_type": "code",
        "colab": {
          "base_uri": "https://localhost:8080/",
          "height": 102
        },
        "outputId": "341014d9-6c5d-40ee-c09a-4a8f74f33197"
      },
      "source": [
        "#Print the following pattern\n",
        "def num(n):\n",
        "  for i in range(1,n+1):\n",
        "    print(str(i)*i)\n",
        "num(5)"
      ],
      "execution_count": 30,
      "outputs": [
        {
          "output_type": "stream",
          "text": [
            "1\n",
            "22\n",
            "333\n",
            "4444\n",
            "55555\n"
          ],
          "name": "stdout"
        }
      ]
    },
    {
      "cell_type": "code",
      "metadata": {
        "id": "UUTwsUy5tgxX",
        "colab_type": "code",
        "colab": {
          "base_uri": "https://localhost:8080/",
          "height": 68
        },
        "outputId": "0acb4c75-5e6d-4eb7-a658-126e491e9009"
      },
      "source": [
        "a=input(\"enter your name:\")\n",
        "b=int(input(\"enter age:\"))\n",
        "m=100-b\n",
        "p=m+2019\n",
        "print(a,'turns old in',p)"
      ],
      "execution_count": 36,
      "outputs": [
        {
          "output_type": "stream",
          "text": [
            "enter your name:siddharth\n",
            "enter age:21\n",
            "siddharth turns old in 2098\n"
          ],
          "name": "stdout"
        }
      ]
    },
    {
      "cell_type": "code",
      "metadata": {
        "id": "arU0wSBwzWtR",
        "colab_type": "code",
        "colab": {}
      },
      "source": [
        ""
      ],
      "execution_count": 0,
      "outputs": []
    }
  ]
}